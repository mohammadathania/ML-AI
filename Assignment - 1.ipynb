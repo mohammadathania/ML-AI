{
 "cells": [
  {
   "cell_type": "code",
   "execution_count": 1,
   "metadata": {},
   "outputs": [],
   "source": [
    "# 1. Subtract two complex numbers"
   ]
  },
  {
   "cell_type": "code",
   "execution_count": 6,
   "metadata": {},
   "outputs": [
    {
     "name": "stdout",
     "output_type": "stream",
     "text": [
      "Enter Real Part of First Number :4\n",
      "Enter Imaginary Part of First Number :5\n",
      "Enter Real Part of Second Number :6\n",
      "Enter Imaginary Part of Second Number :1\n",
      "First Complex Number : (4+5j)\n",
      "Second Complex Number : (6+1j)\n",
      "Difference of two Complex Number :  (-2+4j)\n"
     ]
    }
   ],
   "source": [
    "a1 = int(input(\"Enter Real Part of First Number :\"))\n",
    "a2 = int(input(\"Enter Imaginary Part of First Number :\"))\n",
    "b1 = int(input(\"Enter Real Part of Second Number :\"))\n",
    "b2 = int(input(\"Enter Imaginary Part of Second Number :\"))\n",
    "\n",
    "a = complex(a1,a2)\n",
    "b = complex(b1,b2)\n",
    "\n",
    "print(\"First Complex Number :\",a)\n",
    "print(\"Second Complex Number :\",b)\n",
    "\n",
    "print(\"Difference of two Complex Number : \",(a-b))"
   ]
  },
  {
   "cell_type": "code",
   "execution_count": 7,
   "metadata": {},
   "outputs": [],
   "source": [
    "# 2. Find Fourth Root of a Number"
   ]
  },
  {
   "cell_type": "code",
   "execution_count": 9,
   "metadata": {},
   "outputs": [
    {
     "name": "stdout",
     "output_type": "stream",
     "text": [
      "Enter the Number :16\n",
      "2.0\n"
     ]
    }
   ],
   "source": [
    "a = int(input(\"Enter the Number :\"))\n",
    "answer = (a) ** (1/4)\n",
    "print(answer)"
   ]
  },
  {
   "cell_type": "code",
   "execution_count": 10,
   "metadata": {},
   "outputs": [],
   "source": [
    "# 3. WAP to swap two numbers using temp "
   ]
  },
  {
   "cell_type": "code",
   "execution_count": 12,
   "metadata": {},
   "outputs": [
    {
     "name": "stdout",
     "output_type": "stream",
     "text": [
      "Enter the First Number :4\n",
      "Enter the Second Number :5\n",
      "First Number : 5\n",
      "Second Number : 4\n"
     ]
    }
   ],
   "source": [
    "a = int(input(\"Enter the First Number :\"))\n",
    "b = int(input(\"Enter the Second Number :\"))\n",
    "\n",
    "c = a \n",
    "a = b\n",
    "b = c\n",
    "\n",
    "print(\"First Number :\",a)\n",
    "print(\"Second Number :\",b)\n",
    "\n"
   ]
  },
  {
   "cell_type": "code",
   "execution_count": 13,
   "metadata": {},
   "outputs": [],
   "source": [
    "# 4. WAP to swap two numbers without using temp "
   ]
  },
  {
   "cell_type": "code",
   "execution_count": 14,
   "metadata": {},
   "outputs": [
    {
     "name": "stdout",
     "output_type": "stream",
     "text": [
      "Enter the First Number :4\n",
      "Enter the Second Number :3\n",
      "First Number : 3\n",
      "Second Number : 4\n"
     ]
    }
   ],
   "source": [
    "a = int(input(\"Enter the First Number :\"))\n",
    "b = int(input(\"Enter the Second Number :\"))\n",
    "\n",
    "a,b = b,a\n",
    "print(\"First Number :\",a)\n",
    "print(\"Second Number :\",b)\n",
    "\n",
    "\n"
   ]
  },
  {
   "cell_type": "code",
   "execution_count": 15,
   "metadata": {},
   "outputs": [],
   "source": [
    "# 5. Convert Fahrenheit to Kelvin & to Celcius"
   ]
  },
  {
   "cell_type": "code",
   "execution_count": 16,
   "metadata": {},
   "outputs": [
    {
     "name": "stdout",
     "output_type": "stream",
     "text": [
      "Enter the Temparature :32\n",
      "Temparature in Celcius :  0.0\n",
      "Temparature in Kelvin : 273.15\n"
     ]
    }
   ],
   "source": [
    "# (32°F − 32) × 5/9 + 273.15\n",
    "# (32°F − 32) × 5/9 = 0°C\n",
    "\n",
    "temp = int(input(\"Enter the Temparature :\"))\n",
    "k = (temp - 32 ) * (5/9) + 273.15\n",
    "c = (temp - 32 ) * (5/9)\n",
    "\n",
    "print(\"Temparature in Celcius : \",c)\n",
    "print(\"Temparature in Kelvin :\",k)"
   ]
  },
  {
   "cell_type": "code",
   "execution_count": null,
   "metadata": {},
   "outputs": [],
   "source": [
    "# 6. Data Types of Python"
   ]
  },
  {
   "cell_type": "code",
   "execution_count": 17,
   "metadata": {},
   "outputs": [
    {
     "name": "stdout",
     "output_type": "stream",
     "text": [
      "<class 'int'>\n",
      "<class 'int'>\n",
      "<class 'int'>\n",
      "<class 'float'>\n",
      "<class 'str'>\n",
      "<class 'list'>\n",
      "<class 'dict'>\n",
      "<class 'tuple'>\n",
      "<class 'set'>\n",
      "<class 'bool'>\n"
     ]
    }
   ],
   "source": [
    "#Fundamental Data Types\n",
    "#int,float,bool,str,list,tuple,set,dict\n",
    "\n",
    "print(type(2+4))\n",
    "print(type(2-4))\n",
    "print(type(2*4))\n",
    "print(type(2/4))\n",
    "print(type(\"Hello\"))\n",
    "\n",
    "l = [1,2,3]\n",
    "print(type(l))\n",
    "\n",
    "dictionary = {1 :\"Hello\"}\n",
    "print(type(dictionary))\n",
    "\n",
    "tup = (1,2)\n",
    "print(type(tup))\n",
    "\n",
    "sets = {1,2,3}\n",
    "print(type(sets))\n",
    "\n",
    "flag = True\n",
    "print(type(flag))"
   ]
  },
  {
   "cell_type": "code",
   "execution_count": null,
   "metadata": {},
   "outputs": [],
   "source": []
  }
 ],
 "metadata": {
  "kernelspec": {
   "display_name": "Python 3",
   "language": "python",
   "name": "python3"
  },
  "language_info": {
   "codemirror_mode": {
    "name": "ipython",
    "version": 3
   },
   "file_extension": ".py",
   "mimetype": "text/x-python",
   "name": "python",
   "nbconvert_exporter": "python",
   "pygments_lexer": "ipython3",
   "version": "3.8.3"
  }
 },
 "nbformat": 4,
 "nbformat_minor": 4
}
